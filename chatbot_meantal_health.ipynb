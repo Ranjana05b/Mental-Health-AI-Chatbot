{
 "cells": [
  {
   "cell_type": "code",
   "execution_count": 1,
   "id": "1965eb46",
   "metadata": {},
   "outputs": [
    {
     "name": "stdout",
     "output_type": "stream",
     "text": [
      "Goodbye!\n"
     ]
    }
   ],
   "source": [
    "import cohere\n",
    "\n",
    "co = cohere.Client('gMMvQsKG4sRXRJWmkn83iJjsgd582ZcZLDJh17gh')\n",
    "\n",
    "def generate_response_cohere_chat(user_query, retrieved_texts):\n",
    "    context = \"\\n\".join(retrieved_texts)\n",
    "\n",
    "    # Short supportive response style\n",
    "    message = f\"\"\"\n",
    "    You are a compassionate and supportive mental health assistant. \n",
    "    Always respond in a gentle, non-judgmental, and encouraging way. \n",
    "    Keep your answers **short (2–4 sentences max)**, supportive, and empathetic. \n",
    "    Focus on validating the user’s feelings and offering one simple coping suggestion \n",
    "    (such as breathing, journaling, mindfulness, or a positive reminder). \n",
    "\n",
    "    Here are some related past thoughts from the user:\n",
    "    {context}\n",
    "\n",
    "    Now, the user says: \"{user_query}\"\n",
    "    Respond briefly, kindly, and helpfully.\n",
    "    \"\"\"\n",
    "\n",
    "    response = co.chat(\n",
    "        model=\"command-r-plus\",   # fallback: \"command-xlarge\"\n",
    "        message=message,\n",
    "        temperature=0.7,\n",
    "        max_tokens=120\n",
    "    )\n",
    "    \n",
    "    return response.text.strip()\n",
    "\n",
    "while True:\n",
    "    user_query = input(\"You: \")\n",
    "    if user_query.lower() in ['exit', 'quit', 'bye']:\n",
    "        print(\"Goodbye!\")\n",
    "        break\n",
    "\n",
    "    # Retrieve relevant context here (e.g., from your vector DB)\n",
    "    # For demo, reuse a static retrieved_texts list\n",
    "    retrieved_texts = [\n",
    "        \"How are you feeling?\",\n",
    "    ]\n",
    "\n",
    "    # Generate response using your RAG chatbot function\n",
    "    assistant_reply = generate_response_cohere_chat(user_query, retrieved_texts)\n",
    "    print(\"Assistant:\", assistant_reply)\n"
   ]
  },
  {
   "cell_type": "code",
   "execution_count": null,
   "id": "31a5eb04",
   "metadata": {},
   "outputs": [
    {
     "name": "stdout",
     "output_type": "stream",
     "text": [
      "Assistant: Hello, I'm here for you. How are you feeling today? Remember, it's okay to take things one step at a time and focus on the present moment.\n",
      "Goodbye!\n"
     ]
    }
   ],
   "source": [
    "\n"
   ]
  }
 ],
 "metadata": {
  "kernelspec": {
   "display_name": "myenv",
   "language": "python",
   "name": "python3"
  },
  "language_info": {
   "codemirror_mode": {
    "name": "ipython",
    "version": 3
   },
   "file_extension": ".py",
   "mimetype": "text/x-python",
   "name": "python",
   "nbconvert_exporter": "python",
   "pygments_lexer": "ipython3",
   "version": "3.13.2"
  }
 },
 "nbformat": 4,
 "nbformat_minor": 5
}
